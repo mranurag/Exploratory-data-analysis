{
 "cells": [
  {
   "cell_type": "code",
   "execution_count": 1,
   "metadata": {
    "collapsed": false
   },
   "outputs": [],
   "source": [
    "#Adding necessary libraries\n",
    "import pandas as pd\n",
    "import numpy as np\n",
    "import seaborn as sns\n",
    "import matplotlib.pyplot as plt\n",
    "%matplotlib inline\n",
    "# ignore warnngs\n",
    "import warnings\n",
    "warnings.filterwarnings(\"ignore\")"
   ]
  },
  {
   "cell_type": "code",
   "execution_count": 2,
   "metadata": {
    "collapsed": true
   },
   "outputs": [],
   "source": [
    "#Adding datafile\n",
    "music = pd.read_csv(\"C:\\\\Python\\\\EDA\\\\featuresdf.csv\")"
   ]
  },
  {
   "cell_type": "code",
   "execution_count": 3,
   "metadata": {
    "collapsed": false
   },
   "outputs": [
    {
     "data": {
      "text/html": [
       "<div>\n",
       "<table border=\"1\" class=\"dataframe\">\n",
       "  <thead>\n",
       "    <tr style=\"text-align: right;\">\n",
       "      <th></th>\n",
       "      <th>id</th>\n",
       "      <th>name</th>\n",
       "      <th>artists</th>\n",
       "      <th>danceability</th>\n",
       "      <th>energy</th>\n",
       "      <th>key</th>\n",
       "      <th>loudness</th>\n",
       "      <th>mode</th>\n",
       "      <th>speechiness</th>\n",
       "      <th>acousticness</th>\n",
       "      <th>instrumentalness</th>\n",
       "      <th>liveness</th>\n",
       "      <th>valence</th>\n",
       "      <th>tempo</th>\n",
       "      <th>duration_ms</th>\n",
       "      <th>time_signature</th>\n",
       "    </tr>\n",
       "  </thead>\n",
       "  <tbody>\n",
       "    <tr>\n",
       "      <th>0</th>\n",
       "      <td>7qiZfU4dY1lWllzX7mPBI</td>\n",
       "      <td>Shape of You</td>\n",
       "      <td>Ed Sheeran</td>\n",
       "      <td>0.825</td>\n",
       "      <td>0.652</td>\n",
       "      <td>1.0</td>\n",
       "      <td>-3.183</td>\n",
       "      <td>0.0</td>\n",
       "      <td>0.0802</td>\n",
       "      <td>0.5810</td>\n",
       "      <td>0.000000</td>\n",
       "      <td>0.0931</td>\n",
       "      <td>0.931</td>\n",
       "      <td>95.977</td>\n",
       "      <td>233713.0</td>\n",
       "      <td>4.0</td>\n",
       "    </tr>\n",
       "    <tr>\n",
       "      <th>1</th>\n",
       "      <td>5CtI0qwDJkDQGwXD1H1cL</td>\n",
       "      <td>Despacito - Remix</td>\n",
       "      <td>Luis Fonsi</td>\n",
       "      <td>0.694</td>\n",
       "      <td>0.815</td>\n",
       "      <td>2.0</td>\n",
       "      <td>-4.328</td>\n",
       "      <td>1.0</td>\n",
       "      <td>0.1200</td>\n",
       "      <td>0.2290</td>\n",
       "      <td>0.000000</td>\n",
       "      <td>0.0924</td>\n",
       "      <td>0.813</td>\n",
       "      <td>88.931</td>\n",
       "      <td>228827.0</td>\n",
       "      <td>4.0</td>\n",
       "    </tr>\n",
       "    <tr>\n",
       "      <th>2</th>\n",
       "      <td>4aWmUDTfIPGksMNLV2rQP</td>\n",
       "      <td>Despacito (Featuring Daddy Yankee)</td>\n",
       "      <td>Luis Fonsi</td>\n",
       "      <td>0.660</td>\n",
       "      <td>0.786</td>\n",
       "      <td>2.0</td>\n",
       "      <td>-4.757</td>\n",
       "      <td>1.0</td>\n",
       "      <td>0.1700</td>\n",
       "      <td>0.2090</td>\n",
       "      <td>0.000000</td>\n",
       "      <td>0.1120</td>\n",
       "      <td>0.846</td>\n",
       "      <td>177.833</td>\n",
       "      <td>228200.0</td>\n",
       "      <td>4.0</td>\n",
       "    </tr>\n",
       "    <tr>\n",
       "      <th>3</th>\n",
       "      <td>6RUKPb4LETWmmr3iAEQkt</td>\n",
       "      <td>Something Just Like This</td>\n",
       "      <td>The Chainsmokers</td>\n",
       "      <td>0.617</td>\n",
       "      <td>0.635</td>\n",
       "      <td>11.0</td>\n",
       "      <td>-6.769</td>\n",
       "      <td>0.0</td>\n",
       "      <td>0.0317</td>\n",
       "      <td>0.0498</td>\n",
       "      <td>0.000014</td>\n",
       "      <td>0.1640</td>\n",
       "      <td>0.446</td>\n",
       "      <td>103.019</td>\n",
       "      <td>247160.0</td>\n",
       "      <td>4.0</td>\n",
       "    </tr>\n",
       "  </tbody>\n",
       "</table>\n",
       "</div>"
      ],
      "text/plain": [
       "                      id                                name  \\\n",
       "0  7qiZfU4dY1lWllzX7mPBI                        Shape of You   \n",
       "1  5CtI0qwDJkDQGwXD1H1cL                   Despacito - Remix   \n",
       "2  4aWmUDTfIPGksMNLV2rQP  Despacito (Featuring Daddy Yankee)   \n",
       "3  6RUKPb4LETWmmr3iAEQkt            Something Just Like This   \n",
       "\n",
       "            artists  danceability  energy   key  loudness  mode  speechiness  \\\n",
       "0        Ed Sheeran         0.825   0.652   1.0    -3.183   0.0       0.0802   \n",
       "1        Luis Fonsi         0.694   0.815   2.0    -4.328   1.0       0.1200   \n",
       "2        Luis Fonsi         0.660   0.786   2.0    -4.757   1.0       0.1700   \n",
       "3  The Chainsmokers         0.617   0.635  11.0    -6.769   0.0       0.0317   \n",
       "\n",
       "   acousticness  instrumentalness  liveness  valence    tempo  duration_ms  \\\n",
       "0        0.5810          0.000000    0.0931    0.931   95.977     233713.0   \n",
       "1        0.2290          0.000000    0.0924    0.813   88.931     228827.0   \n",
       "2        0.2090          0.000000    0.1120    0.846  177.833     228200.0   \n",
       "3        0.0498          0.000014    0.1640    0.446  103.019     247160.0   \n",
       "\n",
       "   time_signature  \n",
       "0             4.0  \n",
       "1             4.0  \n",
       "2             4.0  \n",
       "3             4.0  "
      ]
     },
     "execution_count": 3,
     "metadata": {},
     "output_type": "execute_result"
    }
   ],
   "source": [
    "#see statring records\n",
    "music.head(4)"
   ]
  },
  {
   "cell_type": "code",
   "execution_count": 4,
   "metadata": {
    "collapsed": false
   },
   "outputs": [
    {
     "data": {
      "text/html": [
       "<div>\n",
       "<table border=\"1\" class=\"dataframe\">\n",
       "  <thead>\n",
       "    <tr style=\"text-align: right;\">\n",
       "      <th></th>\n",
       "      <th>danceability</th>\n",
       "      <th>energy</th>\n",
       "      <th>key</th>\n",
       "      <th>loudness</th>\n",
       "      <th>mode</th>\n",
       "      <th>speechiness</th>\n",
       "      <th>acousticness</th>\n",
       "      <th>instrumentalness</th>\n",
       "      <th>liveness</th>\n",
       "      <th>valence</th>\n",
       "      <th>tempo</th>\n",
       "      <th>duration_ms</th>\n",
       "      <th>time_signature</th>\n",
       "    </tr>\n",
       "  </thead>\n",
       "  <tbody>\n",
       "    <tr>\n",
       "      <th>count</th>\n",
       "      <td>100.00000</td>\n",
       "      <td>100.000000</td>\n",
       "      <td>100.000000</td>\n",
       "      <td>100.000000</td>\n",
       "      <td>100.000000</td>\n",
       "      <td>100.000000</td>\n",
       "      <td>100.000000</td>\n",
       "      <td>100.000000</td>\n",
       "      <td>100.000000</td>\n",
       "      <td>100.000000</td>\n",
       "      <td>100.000000</td>\n",
       "      <td>100.00000</td>\n",
       "      <td>100.00</td>\n",
       "    </tr>\n",
       "    <tr>\n",
       "      <th>mean</th>\n",
       "      <td>0.69682</td>\n",
       "      <td>0.660690</td>\n",
       "      <td>5.570000</td>\n",
       "      <td>-5.652650</td>\n",
       "      <td>0.580000</td>\n",
       "      <td>0.103969</td>\n",
       "      <td>0.166306</td>\n",
       "      <td>0.004796</td>\n",
       "      <td>0.150607</td>\n",
       "      <td>0.517049</td>\n",
       "      <td>119.202460</td>\n",
       "      <td>218387.28000</td>\n",
       "      <td>3.99</td>\n",
       "    </tr>\n",
       "    <tr>\n",
       "      <th>std</th>\n",
       "      <td>0.12508</td>\n",
       "      <td>0.139207</td>\n",
       "      <td>3.731534</td>\n",
       "      <td>1.802067</td>\n",
       "      <td>0.496045</td>\n",
       "      <td>0.095115</td>\n",
       "      <td>0.166730</td>\n",
       "      <td>0.026038</td>\n",
       "      <td>0.079011</td>\n",
       "      <td>0.216436</td>\n",
       "      <td>27.952928</td>\n",
       "      <td>32851.07772</td>\n",
       "      <td>0.10</td>\n",
       "    </tr>\n",
       "    <tr>\n",
       "      <th>min</th>\n",
       "      <td>0.25800</td>\n",
       "      <td>0.346000</td>\n",
       "      <td>0.000000</td>\n",
       "      <td>-11.462000</td>\n",
       "      <td>0.000000</td>\n",
       "      <td>0.023200</td>\n",
       "      <td>0.000259</td>\n",
       "      <td>0.000000</td>\n",
       "      <td>0.042400</td>\n",
       "      <td>0.086200</td>\n",
       "      <td>75.016000</td>\n",
       "      <td>165387.00000</td>\n",
       "      <td>3.00</td>\n",
       "    </tr>\n",
       "    <tr>\n",
       "      <th>25%</th>\n",
       "      <td>0.63500</td>\n",
       "      <td>0.556500</td>\n",
       "      <td>2.000000</td>\n",
       "      <td>-6.594500</td>\n",
       "      <td>0.000000</td>\n",
       "      <td>0.043125</td>\n",
       "      <td>0.039100</td>\n",
       "      <td>0.000000</td>\n",
       "      <td>0.098275</td>\n",
       "      <td>0.375500</td>\n",
       "      <td>99.911750</td>\n",
       "      <td>198490.50000</td>\n",
       "      <td>4.00</td>\n",
       "    </tr>\n",
       "    <tr>\n",
       "      <th>50%</th>\n",
       "      <td>0.71400</td>\n",
       "      <td>0.667500</td>\n",
       "      <td>6.000000</td>\n",
       "      <td>-5.437000</td>\n",
       "      <td>1.000000</td>\n",
       "      <td>0.062650</td>\n",
       "      <td>0.106500</td>\n",
       "      <td>0.000000</td>\n",
       "      <td>0.125000</td>\n",
       "      <td>0.502500</td>\n",
       "      <td>112.468000</td>\n",
       "      <td>214106.00000</td>\n",
       "      <td>4.00</td>\n",
       "    </tr>\n",
       "    <tr>\n",
       "      <th>75%</th>\n",
       "      <td>0.77025</td>\n",
       "      <td>0.787500</td>\n",
       "      <td>9.000000</td>\n",
       "      <td>-4.326750</td>\n",
       "      <td>1.000000</td>\n",
       "      <td>0.123000</td>\n",
       "      <td>0.231250</td>\n",
       "      <td>0.000013</td>\n",
       "      <td>0.179250</td>\n",
       "      <td>0.679000</td>\n",
       "      <td>137.166000</td>\n",
       "      <td>230543.00000</td>\n",
       "      <td>4.00</td>\n",
       "    </tr>\n",
       "    <tr>\n",
       "      <th>max</th>\n",
       "      <td>0.92700</td>\n",
       "      <td>0.932000</td>\n",
       "      <td>11.000000</td>\n",
       "      <td>-2.396000</td>\n",
       "      <td>1.000000</td>\n",
       "      <td>0.431000</td>\n",
       "      <td>0.695000</td>\n",
       "      <td>0.210000</td>\n",
       "      <td>0.440000</td>\n",
       "      <td>0.966000</td>\n",
       "      <td>199.864000</td>\n",
       "      <td>343150.00000</td>\n",
       "      <td>4.00</td>\n",
       "    </tr>\n",
       "  </tbody>\n",
       "</table>\n",
       "</div>"
      ],
      "text/plain": [
       "       danceability      energy         key    loudness        mode  \\\n",
       "count     100.00000  100.000000  100.000000  100.000000  100.000000   \n",
       "mean        0.69682    0.660690    5.570000   -5.652650    0.580000   \n",
       "std         0.12508    0.139207    3.731534    1.802067    0.496045   \n",
       "min         0.25800    0.346000    0.000000  -11.462000    0.000000   \n",
       "25%         0.63500    0.556500    2.000000   -6.594500    0.000000   \n",
       "50%         0.71400    0.667500    6.000000   -5.437000    1.000000   \n",
       "75%         0.77025    0.787500    9.000000   -4.326750    1.000000   \n",
       "max         0.92700    0.932000   11.000000   -2.396000    1.000000   \n",
       "\n",
       "       speechiness  acousticness  instrumentalness    liveness     valence  \\\n",
       "count   100.000000    100.000000        100.000000  100.000000  100.000000   \n",
       "mean      0.103969      0.166306          0.004796    0.150607    0.517049   \n",
       "std       0.095115      0.166730          0.026038    0.079011    0.216436   \n",
       "min       0.023200      0.000259          0.000000    0.042400    0.086200   \n",
       "25%       0.043125      0.039100          0.000000    0.098275    0.375500   \n",
       "50%       0.062650      0.106500          0.000000    0.125000    0.502500   \n",
       "75%       0.123000      0.231250          0.000013    0.179250    0.679000   \n",
       "max       0.431000      0.695000          0.210000    0.440000    0.966000   \n",
       "\n",
       "            tempo   duration_ms  time_signature  \n",
       "count  100.000000     100.00000          100.00  \n",
       "mean   119.202460  218387.28000            3.99  \n",
       "std     27.952928   32851.07772            0.10  \n",
       "min     75.016000  165387.00000            3.00  \n",
       "25%     99.911750  198490.50000            4.00  \n",
       "50%    112.468000  214106.00000            4.00  \n",
       "75%    137.166000  230543.00000            4.00  \n",
       "max    199.864000  343150.00000            4.00  "
      ]
     },
     "execution_count": 4,
     "metadata": {},
     "output_type": "execute_result"
    }
   ],
   "source": [
    "#look at the summary of the dataset\n",
    "music.describe()"
   ]
  },
  {
   "cell_type": "code",
   "execution_count": 5,
   "metadata": {
    "collapsed": false
   },
   "outputs": [
    {
     "data": {
      "text/html": [
       "<div>\n",
       "<table border=\"1\" class=\"dataframe\">\n",
       "  <thead>\n",
       "    <tr style=\"text-align: right;\">\n",
       "      <th></th>\n",
       "      <th>id</th>\n",
       "      <th>name</th>\n",
       "      <th>artists</th>\n",
       "      <th>danceability</th>\n",
       "      <th>energy</th>\n",
       "      <th>key</th>\n",
       "      <th>loudness</th>\n",
       "      <th>mode</th>\n",
       "      <th>speechiness</th>\n",
       "      <th>acousticness</th>\n",
       "      <th>instrumentalness</th>\n",
       "      <th>liveness</th>\n",
       "      <th>valence</th>\n",
       "      <th>tempo</th>\n",
       "      <th>duration_ms</th>\n",
       "      <th>time_signature</th>\n",
       "    </tr>\n",
       "  </thead>\n",
       "  <tbody>\n",
       "    <tr>\n",
       "      <th>count</th>\n",
       "      <td>100</td>\n",
       "      <td>100</td>\n",
       "      <td>100</td>\n",
       "      <td>100.00000</td>\n",
       "      <td>100.000000</td>\n",
       "      <td>100.000000</td>\n",
       "      <td>100.000000</td>\n",
       "      <td>100.000000</td>\n",
       "      <td>100.000000</td>\n",
       "      <td>100.000000</td>\n",
       "      <td>100.000000</td>\n",
       "      <td>100.000000</td>\n",
       "      <td>100.000000</td>\n",
       "      <td>100.000000</td>\n",
       "      <td>100.00000</td>\n",
       "      <td>100.00</td>\n",
       "    </tr>\n",
       "    <tr>\n",
       "      <th>unique</th>\n",
       "      <td>100</td>\n",
       "      <td>100</td>\n",
       "      <td>78</td>\n",
       "      <td>NaN</td>\n",
       "      <td>NaN</td>\n",
       "      <td>NaN</td>\n",
       "      <td>NaN</td>\n",
       "      <td>NaN</td>\n",
       "      <td>NaN</td>\n",
       "      <td>NaN</td>\n",
       "      <td>NaN</td>\n",
       "      <td>NaN</td>\n",
       "      <td>NaN</td>\n",
       "      <td>NaN</td>\n",
       "      <td>NaN</td>\n",
       "      <td>NaN</td>\n",
       "    </tr>\n",
       "    <tr>\n",
       "      <th>top</th>\n",
       "      <td>3PEgB3fkiojxms35ntsTg</td>\n",
       "      <td>More Than You Know</td>\n",
       "      <td>Ed Sheeran</td>\n",
       "      <td>NaN</td>\n",
       "      <td>NaN</td>\n",
       "      <td>NaN</td>\n",
       "      <td>NaN</td>\n",
       "      <td>NaN</td>\n",
       "      <td>NaN</td>\n",
       "      <td>NaN</td>\n",
       "      <td>NaN</td>\n",
       "      <td>NaN</td>\n",
       "      <td>NaN</td>\n",
       "      <td>NaN</td>\n",
       "      <td>NaN</td>\n",
       "      <td>NaN</td>\n",
       "    </tr>\n",
       "    <tr>\n",
       "      <th>freq</th>\n",
       "      <td>1</td>\n",
       "      <td>1</td>\n",
       "      <td>4</td>\n",
       "      <td>NaN</td>\n",
       "      <td>NaN</td>\n",
       "      <td>NaN</td>\n",
       "      <td>NaN</td>\n",
       "      <td>NaN</td>\n",
       "      <td>NaN</td>\n",
       "      <td>NaN</td>\n",
       "      <td>NaN</td>\n",
       "      <td>NaN</td>\n",
       "      <td>NaN</td>\n",
       "      <td>NaN</td>\n",
       "      <td>NaN</td>\n",
       "      <td>NaN</td>\n",
       "    </tr>\n",
       "    <tr>\n",
       "      <th>mean</th>\n",
       "      <td>NaN</td>\n",
       "      <td>NaN</td>\n",
       "      <td>NaN</td>\n",
       "      <td>0.69682</td>\n",
       "      <td>0.660690</td>\n",
       "      <td>5.570000</td>\n",
       "      <td>-5.652650</td>\n",
       "      <td>0.580000</td>\n",
       "      <td>0.103969</td>\n",
       "      <td>0.166306</td>\n",
       "      <td>0.004796</td>\n",
       "      <td>0.150607</td>\n",
       "      <td>0.517049</td>\n",
       "      <td>119.202460</td>\n",
       "      <td>218387.28000</td>\n",
       "      <td>3.99</td>\n",
       "    </tr>\n",
       "    <tr>\n",
       "      <th>std</th>\n",
       "      <td>NaN</td>\n",
       "      <td>NaN</td>\n",
       "      <td>NaN</td>\n",
       "      <td>0.12508</td>\n",
       "      <td>0.139207</td>\n",
       "      <td>3.731534</td>\n",
       "      <td>1.802067</td>\n",
       "      <td>0.496045</td>\n",
       "      <td>0.095115</td>\n",
       "      <td>0.166730</td>\n",
       "      <td>0.026038</td>\n",
       "      <td>0.079011</td>\n",
       "      <td>0.216436</td>\n",
       "      <td>27.952928</td>\n",
       "      <td>32851.07772</td>\n",
       "      <td>0.10</td>\n",
       "    </tr>\n",
       "    <tr>\n",
       "      <th>min</th>\n",
       "      <td>NaN</td>\n",
       "      <td>NaN</td>\n",
       "      <td>NaN</td>\n",
       "      <td>0.25800</td>\n",
       "      <td>0.346000</td>\n",
       "      <td>0.000000</td>\n",
       "      <td>-11.462000</td>\n",
       "      <td>0.000000</td>\n",
       "      <td>0.023200</td>\n",
       "      <td>0.000259</td>\n",
       "      <td>0.000000</td>\n",
       "      <td>0.042400</td>\n",
       "      <td>0.086200</td>\n",
       "      <td>75.016000</td>\n",
       "      <td>165387.00000</td>\n",
       "      <td>3.00</td>\n",
       "    </tr>\n",
       "    <tr>\n",
       "      <th>25%</th>\n",
       "      <td>NaN</td>\n",
       "      <td>NaN</td>\n",
       "      <td>NaN</td>\n",
       "      <td>0.63500</td>\n",
       "      <td>0.556500</td>\n",
       "      <td>2.000000</td>\n",
       "      <td>-6.594500</td>\n",
       "      <td>0.000000</td>\n",
       "      <td>0.043125</td>\n",
       "      <td>0.039100</td>\n",
       "      <td>0.000000</td>\n",
       "      <td>0.098275</td>\n",
       "      <td>0.375500</td>\n",
       "      <td>99.911750</td>\n",
       "      <td>198490.50000</td>\n",
       "      <td>4.00</td>\n",
       "    </tr>\n",
       "    <tr>\n",
       "      <th>50%</th>\n",
       "      <td>NaN</td>\n",
       "      <td>NaN</td>\n",
       "      <td>NaN</td>\n",
       "      <td>0.71400</td>\n",
       "      <td>0.667500</td>\n",
       "      <td>6.000000</td>\n",
       "      <td>-5.437000</td>\n",
       "      <td>1.000000</td>\n",
       "      <td>0.062650</td>\n",
       "      <td>0.106500</td>\n",
       "      <td>0.000000</td>\n",
       "      <td>0.125000</td>\n",
       "      <td>0.502500</td>\n",
       "      <td>112.468000</td>\n",
       "      <td>214106.00000</td>\n",
       "      <td>4.00</td>\n",
       "    </tr>\n",
       "    <tr>\n",
       "      <th>75%</th>\n",
       "      <td>NaN</td>\n",
       "      <td>NaN</td>\n",
       "      <td>NaN</td>\n",
       "      <td>0.77025</td>\n",
       "      <td>0.787500</td>\n",
       "      <td>9.000000</td>\n",
       "      <td>-4.326750</td>\n",
       "      <td>1.000000</td>\n",
       "      <td>0.123000</td>\n",
       "      <td>0.231250</td>\n",
       "      <td>0.000013</td>\n",
       "      <td>0.179250</td>\n",
       "      <td>0.679000</td>\n",
       "      <td>137.166000</td>\n",
       "      <td>230543.00000</td>\n",
       "      <td>4.00</td>\n",
       "    </tr>\n",
       "    <tr>\n",
       "      <th>max</th>\n",
       "      <td>NaN</td>\n",
       "      <td>NaN</td>\n",
       "      <td>NaN</td>\n",
       "      <td>0.92700</td>\n",
       "      <td>0.932000</td>\n",
       "      <td>11.000000</td>\n",
       "      <td>-2.396000</td>\n",
       "      <td>1.000000</td>\n",
       "      <td>0.431000</td>\n",
       "      <td>0.695000</td>\n",
       "      <td>0.210000</td>\n",
       "      <td>0.440000</td>\n",
       "      <td>0.966000</td>\n",
       "      <td>199.864000</td>\n",
       "      <td>343150.00000</td>\n",
       "      <td>4.00</td>\n",
       "    </tr>\n",
       "  </tbody>\n",
       "</table>\n",
       "</div>"
      ],
      "text/plain": [
       "                           id                name     artists  danceability  \\\n",
       "count                     100                 100         100     100.00000   \n",
       "unique                    100                 100          78           NaN   \n",
       "top     3PEgB3fkiojxms35ntsTg  More Than You Know  Ed Sheeran           NaN   \n",
       "freq                        1                   1           4           NaN   \n",
       "mean                      NaN                 NaN         NaN       0.69682   \n",
       "std                       NaN                 NaN         NaN       0.12508   \n",
       "min                       NaN                 NaN         NaN       0.25800   \n",
       "25%                       NaN                 NaN         NaN       0.63500   \n",
       "50%                       NaN                 NaN         NaN       0.71400   \n",
       "75%                       NaN                 NaN         NaN       0.77025   \n",
       "max                       NaN                 NaN         NaN       0.92700   \n",
       "\n",
       "            energy         key    loudness        mode  speechiness  \\\n",
       "count   100.000000  100.000000  100.000000  100.000000   100.000000   \n",
       "unique         NaN         NaN         NaN         NaN          NaN   \n",
       "top            NaN         NaN         NaN         NaN          NaN   \n",
       "freq           NaN         NaN         NaN         NaN          NaN   \n",
       "mean      0.660690    5.570000   -5.652650    0.580000     0.103969   \n",
       "std       0.139207    3.731534    1.802067    0.496045     0.095115   \n",
       "min       0.346000    0.000000  -11.462000    0.000000     0.023200   \n",
       "25%       0.556500    2.000000   -6.594500    0.000000     0.043125   \n",
       "50%       0.667500    6.000000   -5.437000    1.000000     0.062650   \n",
       "75%       0.787500    9.000000   -4.326750    1.000000     0.123000   \n",
       "max       0.932000   11.000000   -2.396000    1.000000     0.431000   \n",
       "\n",
       "        acousticness  instrumentalness    liveness     valence       tempo  \\\n",
       "count     100.000000        100.000000  100.000000  100.000000  100.000000   \n",
       "unique           NaN               NaN         NaN         NaN         NaN   \n",
       "top              NaN               NaN         NaN         NaN         NaN   \n",
       "freq             NaN               NaN         NaN         NaN         NaN   \n",
       "mean        0.166306          0.004796    0.150607    0.517049  119.202460   \n",
       "std         0.166730          0.026038    0.079011    0.216436   27.952928   \n",
       "min         0.000259          0.000000    0.042400    0.086200   75.016000   \n",
       "25%         0.039100          0.000000    0.098275    0.375500   99.911750   \n",
       "50%         0.106500          0.000000    0.125000    0.502500  112.468000   \n",
       "75%         0.231250          0.000013    0.179250    0.679000  137.166000   \n",
       "max         0.695000          0.210000    0.440000    0.966000  199.864000   \n",
       "\n",
       "         duration_ms  time_signature  \n",
       "count      100.00000          100.00  \n",
       "unique           NaN             NaN  \n",
       "top              NaN             NaN  \n",
       "freq             NaN             NaN  \n",
       "mean    218387.28000            3.99  \n",
       "std      32851.07772            0.10  \n",
       "min     165387.00000            3.00  \n",
       "25%     198490.50000            4.00  \n",
       "50%     214106.00000            4.00  \n",
       "75%     230543.00000            4.00  \n",
       "max     343150.00000            4.00  "
      ]
     },
     "execution_count": 5,
     "metadata": {},
     "output_type": "execute_result"
    }
   ],
   "source": [
    "#To look at all variables including categorical ones\n",
    "music.describe(include=\"all\")"
   ]
  },
  {
   "cell_type": "code",
   "execution_count": 6,
   "metadata": {
    "collapsed": true
   },
   "outputs": [],
   "source": [
    "#removing  iD, Name and Artist\n",
    "music_updated = music.drop([\"id\",\"name\",\"artists\"],axis=1)"
   ]
  },
  {
   "cell_type": "code",
   "execution_count": 57,
   "metadata": {
    "collapsed": false
   },
   "outputs": [
    {
     "data": {
      "text/html": [
       "<div>\n",
       "<table border=\"1\" class=\"dataframe\">\n",
       "  <thead>\n",
       "    <tr style=\"text-align: right;\">\n",
       "      <th></th>\n",
       "      <th>danceability</th>\n",
       "      <th>energy</th>\n",
       "      <th>key</th>\n",
       "      <th>loudness</th>\n",
       "      <th>mode</th>\n",
       "      <th>speechiness</th>\n",
       "      <th>acousticness</th>\n",
       "      <th>instrumentalness</th>\n",
       "      <th>liveness</th>\n",
       "      <th>valence</th>\n",
       "      <th>tempo</th>\n",
       "      <th>duration_ms</th>\n",
       "      <th>time_signature</th>\n",
       "      <th>NewKey</th>\n",
       "    </tr>\n",
       "  </thead>\n",
       "  <tbody>\n",
       "    <tr>\n",
       "      <th>count</th>\n",
       "      <td>100.00000</td>\n",
       "      <td>100.000000</td>\n",
       "      <td>100.000000</td>\n",
       "      <td>100.000000</td>\n",
       "      <td>100</td>\n",
       "      <td>100.000000</td>\n",
       "      <td>100.000000</td>\n",
       "      <td>100.000000</td>\n",
       "      <td>100.000000</td>\n",
       "      <td>100.000000</td>\n",
       "      <td>100.000000</td>\n",
       "      <td>100.00000</td>\n",
       "      <td>100.00</td>\n",
       "      <td>100</td>\n",
       "    </tr>\n",
       "    <tr>\n",
       "      <th>unique</th>\n",
       "      <td>NaN</td>\n",
       "      <td>NaN</td>\n",
       "      <td>NaN</td>\n",
       "      <td>NaN</td>\n",
       "      <td>2</td>\n",
       "      <td>NaN</td>\n",
       "      <td>NaN</td>\n",
       "      <td>NaN</td>\n",
       "      <td>NaN</td>\n",
       "      <td>NaN</td>\n",
       "      <td>NaN</td>\n",
       "      <td>NaN</td>\n",
       "      <td>NaN</td>\n",
       "      <td>12</td>\n",
       "    </tr>\n",
       "    <tr>\n",
       "      <th>top</th>\n",
       "      <td>NaN</td>\n",
       "      <td>NaN</td>\n",
       "      <td>NaN</td>\n",
       "      <td>NaN</td>\n",
       "      <td>1</td>\n",
       "      <td>NaN</td>\n",
       "      <td>NaN</td>\n",
       "      <td>NaN</td>\n",
       "      <td>NaN</td>\n",
       "      <td>NaN</td>\n",
       "      <td>NaN</td>\n",
       "      <td>NaN</td>\n",
       "      <td>NaN</td>\n",
       "      <td>B</td>\n",
       "    </tr>\n",
       "    <tr>\n",
       "      <th>freq</th>\n",
       "      <td>NaN</td>\n",
       "      <td>NaN</td>\n",
       "      <td>NaN</td>\n",
       "      <td>NaN</td>\n",
       "      <td>58</td>\n",
       "      <td>NaN</td>\n",
       "      <td>NaN</td>\n",
       "      <td>NaN</td>\n",
       "      <td>NaN</td>\n",
       "      <td>NaN</td>\n",
       "      <td>NaN</td>\n",
       "      <td>NaN</td>\n",
       "      <td>NaN</td>\n",
       "      <td>14</td>\n",
       "    </tr>\n",
       "    <tr>\n",
       "      <th>mean</th>\n",
       "      <td>0.69682</td>\n",
       "      <td>0.660690</td>\n",
       "      <td>5.570000</td>\n",
       "      <td>-5.652650</td>\n",
       "      <td>NaN</td>\n",
       "      <td>0.103969</td>\n",
       "      <td>0.166306</td>\n",
       "      <td>0.004796</td>\n",
       "      <td>0.150607</td>\n",
       "      <td>0.517049</td>\n",
       "      <td>119.202460</td>\n",
       "      <td>218387.28000</td>\n",
       "      <td>3.99</td>\n",
       "      <td>NaN</td>\n",
       "    </tr>\n",
       "    <tr>\n",
       "      <th>std</th>\n",
       "      <td>0.12508</td>\n",
       "      <td>0.139207</td>\n",
       "      <td>3.731534</td>\n",
       "      <td>1.802067</td>\n",
       "      <td>NaN</td>\n",
       "      <td>0.095115</td>\n",
       "      <td>0.166730</td>\n",
       "      <td>0.026038</td>\n",
       "      <td>0.079011</td>\n",
       "      <td>0.216436</td>\n",
       "      <td>27.952928</td>\n",
       "      <td>32851.07772</td>\n",
       "      <td>0.10</td>\n",
       "      <td>NaN</td>\n",
       "    </tr>\n",
       "    <tr>\n",
       "      <th>min</th>\n",
       "      <td>0.25800</td>\n",
       "      <td>0.346000</td>\n",
       "      <td>0.000000</td>\n",
       "      <td>-11.462000</td>\n",
       "      <td>NaN</td>\n",
       "      <td>0.023200</td>\n",
       "      <td>0.000259</td>\n",
       "      <td>0.000000</td>\n",
       "      <td>0.042400</td>\n",
       "      <td>0.086200</td>\n",
       "      <td>75.016000</td>\n",
       "      <td>165387.00000</td>\n",
       "      <td>3.00</td>\n",
       "      <td>NaN</td>\n",
       "    </tr>\n",
       "    <tr>\n",
       "      <th>25%</th>\n",
       "      <td>0.63500</td>\n",
       "      <td>0.556500</td>\n",
       "      <td>2.000000</td>\n",
       "      <td>-6.594500</td>\n",
       "      <td>NaN</td>\n",
       "      <td>0.043125</td>\n",
       "      <td>0.039100</td>\n",
       "      <td>0.000000</td>\n",
       "      <td>0.098275</td>\n",
       "      <td>0.375500</td>\n",
       "      <td>99.911750</td>\n",
       "      <td>198490.50000</td>\n",
       "      <td>4.00</td>\n",
       "      <td>NaN</td>\n",
       "    </tr>\n",
       "    <tr>\n",
       "      <th>50%</th>\n",
       "      <td>0.71400</td>\n",
       "      <td>0.667500</td>\n",
       "      <td>6.000000</td>\n",
       "      <td>-5.437000</td>\n",
       "      <td>NaN</td>\n",
       "      <td>0.062650</td>\n",
       "      <td>0.106500</td>\n",
       "      <td>0.000000</td>\n",
       "      <td>0.125000</td>\n",
       "      <td>0.502500</td>\n",
       "      <td>112.468000</td>\n",
       "      <td>214106.00000</td>\n",
       "      <td>4.00</td>\n",
       "      <td>NaN</td>\n",
       "    </tr>\n",
       "    <tr>\n",
       "      <th>75%</th>\n",
       "      <td>0.77025</td>\n",
       "      <td>0.787500</td>\n",
       "      <td>9.000000</td>\n",
       "      <td>-4.326750</td>\n",
       "      <td>NaN</td>\n",
       "      <td>0.123000</td>\n",
       "      <td>0.231250</td>\n",
       "      <td>0.000013</td>\n",
       "      <td>0.179250</td>\n",
       "      <td>0.679000</td>\n",
       "      <td>137.166000</td>\n",
       "      <td>230543.00000</td>\n",
       "      <td>4.00</td>\n",
       "      <td>NaN</td>\n",
       "    </tr>\n",
       "    <tr>\n",
       "      <th>max</th>\n",
       "      <td>0.92700</td>\n",
       "      <td>0.932000</td>\n",
       "      <td>11.000000</td>\n",
       "      <td>-2.396000</td>\n",
       "      <td>NaN</td>\n",
       "      <td>0.431000</td>\n",
       "      <td>0.695000</td>\n",
       "      <td>0.210000</td>\n",
       "      <td>0.440000</td>\n",
       "      <td>0.966000</td>\n",
       "      <td>199.864000</td>\n",
       "      <td>343150.00000</td>\n",
       "      <td>4.00</td>\n",
       "      <td>NaN</td>\n",
       "    </tr>\n",
       "  </tbody>\n",
       "</table>\n",
       "</div>"
      ],
      "text/plain": [
       "        danceability      energy         key    loudness mode  speechiness  \\\n",
       "count      100.00000  100.000000  100.000000  100.000000  100   100.000000   \n",
       "unique           NaN         NaN         NaN         NaN    2          NaN   \n",
       "top              NaN         NaN         NaN         NaN    1          NaN   \n",
       "freq             NaN         NaN         NaN         NaN   58          NaN   \n",
       "mean         0.69682    0.660690    5.570000   -5.652650  NaN     0.103969   \n",
       "std          0.12508    0.139207    3.731534    1.802067  NaN     0.095115   \n",
       "min          0.25800    0.346000    0.000000  -11.462000  NaN     0.023200   \n",
       "25%          0.63500    0.556500    2.000000   -6.594500  NaN     0.043125   \n",
       "50%          0.71400    0.667500    6.000000   -5.437000  NaN     0.062650   \n",
       "75%          0.77025    0.787500    9.000000   -4.326750  NaN     0.123000   \n",
       "max          0.92700    0.932000   11.000000   -2.396000  NaN     0.431000   \n",
       "\n",
       "        acousticness  instrumentalness    liveness     valence       tempo  \\\n",
       "count     100.000000        100.000000  100.000000  100.000000  100.000000   \n",
       "unique           NaN               NaN         NaN         NaN         NaN   \n",
       "top              NaN               NaN         NaN         NaN         NaN   \n",
       "freq             NaN               NaN         NaN         NaN         NaN   \n",
       "mean        0.166306          0.004796    0.150607    0.517049  119.202460   \n",
       "std         0.166730          0.026038    0.079011    0.216436   27.952928   \n",
       "min         0.000259          0.000000    0.042400    0.086200   75.016000   \n",
       "25%         0.039100          0.000000    0.098275    0.375500   99.911750   \n",
       "50%         0.106500          0.000000    0.125000    0.502500  112.468000   \n",
       "75%         0.231250          0.000013    0.179250    0.679000  137.166000   \n",
       "max         0.695000          0.210000    0.440000    0.966000  199.864000   \n",
       "\n",
       "         duration_ms  time_signature NewKey  \n",
       "count      100.00000          100.00    100  \n",
       "unique           NaN             NaN     12  \n",
       "top              NaN             NaN      B  \n",
       "freq             NaN             NaN     14  \n",
       "mean    218387.28000            3.99    NaN  \n",
       "std      32851.07772            0.10    NaN  \n",
       "min     165387.00000            3.00    NaN  \n",
       "25%     198490.50000            4.00    NaN  \n",
       "50%     214106.00000            4.00    NaN  \n",
       "75%     230543.00000            4.00    NaN  \n",
       "max     343150.00000            4.00    NaN  "
      ]
     },
     "execution_count": 57,
     "metadata": {},
     "output_type": "execute_result"
    }
   ],
   "source": [
    "music_updated.describe(include=\"all\")"
   ]
  },
  {
   "cell_type": "code",
   "execution_count": 8,
   "metadata": {
    "collapsed": true
   },
   "outputs": [],
   "source": [
    "sns.set_palette = 'pastel'"
   ]
  },
  {
   "cell_type": "code",
   "execution_count": 9,
   "metadata": {
    "collapsed": false
   },
   "outputs": [
    {
     "data": {
      "text/plain": [
       "<matplotlib.axes._subplots.AxesSubplot at 0xaf1da90>"
      ]
     },
     "execution_count": 9,
     "metadata": {},
     "output_type": "execute_result"
    },
    {
     "data": {
      "image/png": "[encoded data removed]",
      "text/plain": [
       "<matplotlib.figure.Figure at 0xafdef28>"
      ]
     },
     "metadata": {},
     "output_type": "display_data"
    }
   ],
   "source": [
    "#looking at dancebility first\n",
    "#let's see it's distribution using distplot\n",
    "sns.distplot(music_updated.danceability)"
   ]
  },
  {
   "cell_type": "code",
   "execution_count": 10,
   "metadata": {
    "collapsed": false
   },
   "outputs": [
    {
     "data": {
      "text/plain": [
       "0.69681999999999988"
      ]
     },
     "execution_count": 10,
     "metadata": {},
     "output_type": "execute_result"
    }
   ],
   "source": [
    "#the distribution seems somewhat left skewed, having mean .7, It means most of the top cases has dancebility near .7\n",
    "music_updated.danceability.mean()\n",
    "#majority of songs have high dancebility ratings, perhaps something which exites people while they select songs"
   ]
  },
  {
   "cell_type": "code",
   "execution_count": 11,
   "metadata": {
    "collapsed": false
   },
   "outputs": [
    {
     "data": {
      "text/plain": [
       "count    100.00000\n",
       "mean       0.69682\n",
       "std        0.12508\n",
       "min        0.25800\n",
       "25%        0.63500\n",
       "50%        0.71400\n",
       "75%        0.77025\n",
       "max        0.92700\n",
       "Name: danceability, dtype: float64"
      ]
     },
     "execution_count": 11,
     "metadata": {},
     "output_type": "execute_result"
    }
   ],
   "source": [
    "music_updated.danceability.describe()"
   ]
  },
  {
   "cell_type": "markdown",
   "metadata": {},
   "source": [
    "\n"
   ]
  },
  {
   "cell_type": "code",
   "execution_count": 12,
   "metadata": {
    "collapsed": false
   },
   "outputs": [
    {
     "data": {
      "text/plain": [
       "<matplotlib.axes._subplots.AxesSubplot at 0xc993fd0>"
      ]
     },
     "execution_count": 12,
     "metadata": {},
     "output_type": "execute_result"
    },
    {
     "data": {
      "image/png": "[encoded data removed]",
      "text/plain": [
       "<matplotlib.figure.Figure at 0xc921d30>"
      ]
     },
     "metadata": {},
     "output_type": "display_data"
    }
   ],
   "source": [
    "#let's loo at energy\n",
    "sns.distplot(music_updated.energy)"
   ]
  },
  {
   "cell_type": "code",
   "execution_count": 13,
   "metadata": {
    "collapsed": false
   },
   "outputs": [
    {
     "name": "stdout",
     "output_type": "stream",
     "text": [
      "0.66069\n",
      "0.6675\n"
     ]
    }
   ],
   "source": [
    "#This seems lie  an example of perfect normal distribution except a peak around 0.8\n",
    "# it also shows that people also prefer high energy songs\n",
    "print (music_updated.energy.mean())\n",
    "print (music_updated.energy.median())"
   ]
  },
  {
   "cell_type": "code",
   "execution_count": 14,
   "metadata": {
    "collapsed": false
   },
   "outputs": [
    {
     "name": "stdout",
     "output_type": "stream",
     "text": [
      "float64\n"
     ]
    },
    {
     "data": {
      "text/plain": [
       "array([  1.,   2.,  11.,   7.,   0.,   6.,   5.,   3.,   9.,  10.,   8.,\n",
       "         4.])"
      ]
     },
     "execution_count": 14,
     "metadata": {},
     "output_type": "execute_result"
    }
   ],
   "source": [
    "#let's look at key variable\n",
    "print(music_updated.key.dtypes)\n",
    "music_updated.key.unique()"
   ]
  },
  {
   "cell_type": "code",
   "execution_count": 15,
   "metadata": {
    "collapsed": false
   },
   "outputs": [],
   "source": [
    "#though the datatype of ey is float but it has only 12 unique values,let's map these to coreesponding categories\n",
    "keyMapping  ={0.:\"A\",1.:\"B\",2.:\"C\",3.:\"D\",4.:\"E\",5.:\"F\",6.:\"G\",7.:\"H\",8.:\"I\",9.:\"J\",10.:\"K\",11.:\"L\"}\n",
    "music_updated[\"NewKey\"] = music_updated.key.map(keyMapping)"
   ]
  },
  {
   "cell_type": "code",
   "execution_count": 16,
   "metadata": {
    "collapsed": false
   },
   "outputs": [
    {
     "data": {
      "text/plain": [
       "array(['B', 'C', 'L', 'H', 'A', 'G', 'F', 'D', 'J', 'K', 'I', 'E'], dtype=object)"
      ]
     },
     "execution_count": 16,
     "metadata": {},
     "output_type": "execute_result"
    }
   ],
   "source": [
    "#Let's see the new feature\n",
    "music_updated.NewKey.unique()"
   ]
  },
  {
   "cell_type": "code",
   "execution_count": 23,
   "metadata": {
    "collapsed": false
   },
   "outputs": [
    {
     "data": {
      "text/plain": [
       "<matplotlib.axes._subplots.AxesSubplot at 0xd7f49b0>"
      ]
     },
     "execution_count": 23,
     "metadata": {},
     "output_type": "execute_result"
    },
    {
     "data": {
      "image/png": "[encoded data removed]",
      "text/plain": [
       "<matplotlib.figure.Figure at 0xdd2ccc0>"
      ]
     },
     "metadata": {},
     "output_type": "display_data"
    }
   ],
   "source": [
    "sns.countplot(data=music_updated, x=music_updated.NewKey, palette=\"Greens_d\", order=music_updated.NewKey.value_counts().index)"
   ]
  },
  {
   "cell_type": "code",
   "execution_count": null,
   "metadata": {
    "collapsed": true
   },
   "outputs": [],
   "source": [
    "#more songs with keys B,L,I,A are there,ey can be  deciding factor as it has a decreaing distribution among key categories\n",
    "\n"
   ]
  },
  {
   "cell_type": "code",
   "execution_count": 24,
   "metadata": {
    "collapsed": false
   },
   "outputs": [
    {
     "data": {
      "text/plain": [
       "<matplotlib.axes._subplots.AxesSubplot at 0xe05d048>"
      ]
     },
     "execution_count": 24,
     "metadata": {},
     "output_type": "execute_result"
    },
    {
     "data": {
      "image/png": "[encoded data removed]",
      "text/plain": [
       "<matplotlib.figure.Figure at 0xe0693c8>"
      ]
     },
     "metadata": {},
     "output_type": "display_data"
    }
   ],
   "source": [
    "#let's loo at loud ness\n",
    "sns.distplot(music_updated.loudness)"
   ]
  },
  {
   "cell_type": "code",
   "execution_count": 36,
   "metadata": {
    "collapsed": false
   },
   "outputs": [
    {
     "name": "stdout",
     "output_type": "stream",
     "text": [
      "-5.65265\n",
      "-5.437\n"
     ]
    }
   ],
   "source": [
    "#It seems like a left tailed distribution\n",
    "print(music_updated.loudness.mean())\n",
    "print(music_updated.loudness.median())"
   ]
  },
  {
   "cell_type": "code",
   "execution_count": null,
   "metadata": {
    "collapsed": true
   },
   "outputs": [],
   "source": [
    "#people like less loud songs considering highly negative means very much loud."
   ]
  },
  {
   "cell_type": "code",
   "execution_count": 25,
   "metadata": {
    "collapsed": false
   },
   "outputs": [
    {
     "data": {
      "text/plain": [
       "array([ 0.,  1.])"
      ]
     },
     "execution_count": 25,
     "metadata": {},
     "output_type": "execute_result"
    }
   ],
   "source": [
    "#analyzing mode\n",
    "music_updated[\"mode\"].unique()"
   ]
  },
  {
   "cell_type": "code",
   "execution_count": 26,
   "metadata": {
    "collapsed": false
   },
   "outputs": [
    {
     "data": {
      "text/plain": [
       "array(['0', '1'], dtype=object)"
      ]
     },
     "execution_count": 26,
     "metadata": {},
     "output_type": "execute_result"
    }
   ],
   "source": [
    "# seems like a categorical variable\n",
    "modeMapping = {0.:\"0\",1.:\"1\"}\n",
    "music_updated[\"mode\"] = music_updated[\"mode\"].map(modeMapping)\n",
    "music_updated[\"mode\"].unique()"
   ]
  },
  {
   "cell_type": "code",
   "execution_count": 27,
   "metadata": {
    "collapsed": false
   },
   "outputs": [
    {
     "data": {
      "text/plain": [
       "<matplotlib.axes._subplots.AxesSubplot at 0xe1f0400>"
      ]
     },
     "execution_count": 27,
     "metadata": {},
     "output_type": "execute_result"
    },
    {
     "data": {
      "image/png": "[encoded data removed]",
      "text/plain": [
       "<matplotlib.figure.Figure at 0xe2a19e8>"
      ]
     },
     "metadata": {},
     "output_type": "display_data"
    }
   ],
   "source": [
    "sns.countplot(data=music_updated,x=music_updated[\"mode\"],palette=\"Greens_d\")"
   ]
  },
  {
   "cell_type": "code",
   "execution_count": null,
   "metadata": {
    "collapsed": true
   },
   "outputs": [],
   "source": [
    "#more songs with mode 1"
   ]
  },
  {
   "cell_type": "code",
   "execution_count": 28,
   "metadata": {
    "collapsed": false
   },
   "outputs": [
    {
     "data": {
      "text/plain": [
       "count    100.000000\n",
       "mean       0.103969\n",
       "std        0.095115\n",
       "min        0.023200\n",
       "25%        0.043125\n",
       "50%        0.062650\n",
       "75%        0.123000\n",
       "max        0.431000\n",
       "Name: speechiness, dtype: float64"
      ]
     },
     "execution_count": 28,
     "metadata": {},
     "output_type": "execute_result"
    }
   ],
   "source": [
    "#analyze speechiness\n",
    "music_updated.speechiness.head()\n",
    "music_updated.speechiness.describe()"
   ]
  },
  {
   "cell_type": "code",
   "execution_count": 29,
   "metadata": {
    "collapsed": false
   },
   "outputs": [
    {
     "data": {
      "text/plain": [
       "<matplotlib.axes._subplots.AxesSubplot at 0xe3f2518>"
      ]
     },
     "execution_count": 29,
     "metadata": {},
     "output_type": "execute_result"
    },
    {
     "data": {
      "image/png": "[encoded data removed]",
      "text/plain": [
       "<matplotlib.figure.Figure at 0xe4d1e48>"
      ]
     },
     "metadata": {},
     "output_type": "display_data"
    }
   ],
   "source": [
    "\n",
    "sns.distplot(music_updated.speechiness)"
   ]
  },
  {
   "cell_type": "code",
   "execution_count": null,
   "metadata": {
    "collapsed": true
   },
   "outputs": [],
   "source": [
    "# most songs are having speechiness less than 10.39. perhaps people like more music than words"
   ]
  },
  {
   "cell_type": "code",
   "execution_count": 30,
   "metadata": {
    "collapsed": false
   },
   "outputs": [
    {
     "data": {
      "text/plain": [
       "count    100.000000\n",
       "mean       0.166306\n",
       "std        0.166730\n",
       "min        0.000259\n",
       "25%        0.039100\n",
       "50%        0.106500\n",
       "75%        0.231250\n",
       "max        0.695000\n",
       "Name: acousticness, dtype: float64"
      ]
     },
     "execution_count": 30,
     "metadata": {},
     "output_type": "execute_result"
    }
   ],
   "source": [
    "music_updated.acousticness.describe()"
   ]
  },
  {
   "cell_type": "code",
   "execution_count": 31,
   "metadata": {
    "collapsed": false
   },
   "outputs": [
    {
     "data": {
      "text/plain": [
       "<matplotlib.axes._subplots.AxesSubplot at 0xe5e49b0>"
      ]
     },
     "execution_count": 31,
     "metadata": {},
     "output_type": "execute_result"
    },
    {
     "data": {
      "image/png": "[encoded data removed]",
      "text/plain": [
       "<matplotlib.figure.Figure at 0xe5f17f0>"
      ]
     },
     "metadata": {},
     "output_type": "display_data"
    }
   ],
   "source": [
    "sns.distplot(music_updated.acousticness)"
   ]
  },
  {
   "cell_type": "code",
   "execution_count": 49,
   "metadata": {
    "collapsed": false
   },
   "outputs": [
    {
     "name": "stdout",
     "output_type": "stream",
     "text": [
      "mean value for acousticness is : 0.16630649\n"
     ]
    }
   ],
   "source": [
    "print \"mean value for acousticness is :\" ,music_updated.acousticness.mean()"
   ]
  },
  {
   "cell_type": "code",
   "execution_count": null,
   "metadata": {
    "collapsed": true
   },
   "outputs": [],
   "source": [
    "#people like less acoustic songs, atleast more than 50 %"
   ]
  },
  {
   "cell_type": "code",
   "execution_count": 32,
   "metadata": {
    "collapsed": false
   },
   "outputs": [
    {
     "data": {
      "text/plain": [
       "count    100.000000\n",
       "mean       0.004796\n",
       "std        0.026038\n",
       "min        0.000000\n",
       "25%        0.000000\n",
       "50%        0.000000\n",
       "75%        0.000013\n",
       "max        0.210000\n",
       "Name: instrumentalness, dtype: float64"
      ]
     },
     "execution_count": 32,
     "metadata": {},
     "output_type": "execute_result"
    }
   ],
   "source": [
    "music_updated.instrumentalness.describe()"
   ]
  },
  {
   "cell_type": "code",
   "execution_count": 33,
   "metadata": {
    "collapsed": false
   },
   "outputs": [
    {
     "data": {
      "text/plain": [
       "<matplotlib.axes._subplots.AxesSubplot at 0xe8bb4a8>"
      ]
     },
     "execution_count": 33,
     "metadata": {},
     "output_type": "execute_result"
    },
    {
     "data": {
      "image/png": "[encoded data removed]",
      "text/plain": [
       "<matplotlib.figure.Figure at 0xe8b1cc0>"
      ]
     },
     "metadata": {},
     "output_type": "display_data"
    }
   ],
   "source": [
    "#from the summary statistic it seems that people don't like nstrumental music much if small numbers represent lack of effect\n",
    "sns.distplot(music_updated.instrumentalness)"
   ]
  },
  {
   "cell_type": "code",
   "execution_count": 52,
   "metadata": {
    "collapsed": false
   },
   "outputs": [
    {
     "data": {
      "text/plain": [
       "count    100.000000\n",
       "mean       0.150607\n",
       "std        0.079011\n",
       "min        0.042400\n",
       "25%        0.098275\n",
       "50%        0.125000\n",
       "75%        0.179250\n",
       "max        0.440000\n",
       "Name: liveness, dtype: float64"
      ]
     },
     "execution_count": 52,
     "metadata": {},
     "output_type": "execute_result"
    }
   ],
   "source": [
    "#look at liveness\n",
    "music_updated.liveness.describe()"
   ]
  },
  {
   "cell_type": "code",
   "execution_count": 34,
   "metadata": {
    "collapsed": false
   },
   "outputs": [
    {
     "data": {
      "text/plain": [
       "<matplotlib.axes._subplots.AxesSubplot at 0xed786d8>"
      ]
     },
     "execution_count": 34,
     "metadata": {},
     "output_type": "execute_result"
    },
    {
     "data": {
      "image/png": "[encoded data removed]",
      "text/plain": [
       "<matplotlib.figure.Figure at 0xed26ac8>"
      ]
     },
     "metadata": {},
     "output_type": "display_data"
    }
   ],
   "source": [
    "sns.distplot(music_updated.liveness)"
   ]
  },
  {
   "cell_type": "code",
   "execution_count": null,
   "metadata": {
    "collapsed": true
   },
   "outputs": [],
   "source": [
    "#people like less live songs,nobody wants extra distraction"
   ]
  },
  {
   "cell_type": "code",
   "execution_count": 35,
   "metadata": {
    "collapsed": false
   },
   "outputs": [
    {
     "data": {
      "text/plain": [
       "count    100.000000\n",
       "mean       0.517049\n",
       "std        0.216436\n",
       "min        0.086200\n",
       "25%        0.375500\n",
       "50%        0.502500\n",
       "75%        0.679000\n",
       "max        0.966000\n",
       "Name: valence, dtype: float64"
      ]
     },
     "execution_count": 35,
     "metadata": {},
     "output_type": "execute_result"
    }
   ],
   "source": [
    "music_updated.valence.describe()"
   ]
  },
  {
   "cell_type": "code",
   "execution_count": 36,
   "metadata": {
    "collapsed": false
   },
   "outputs": [
    {
     "data": {
      "text/plain": [
       "<matplotlib.axes._subplots.AxesSubplot at 0xf03c3c8>"
      ]
     },
     "execution_count": 36,
     "metadata": {},
     "output_type": "execute_result"
    },
    {
     "data": {
      "image/png": "[encoded data removed]",
      "text/plain": [
       "<matplotlib.figure.Figure at 0xf047c88>"
      ]
     },
     "metadata": {},
     "output_type": "display_data"
    }
   ],
   "source": [
    "sns.distplot(music_updated.valence)"
   ]
  },
  {
   "cell_type": "code",
   "execution_count": null,
   "metadata": {
    "collapsed": true
   },
   "outputs": [],
   "source": [
    "#people like both kind of songs, since mean is .51"
   ]
  },
  {
   "cell_type": "code",
   "execution_count": 39,
   "metadata": {
    "collapsed": false
   },
   "outputs": [
    {
     "data": {
      "image/png": "[encoded data removed]",
      "text/plain": [
       "<matplotlib.figure.Figure at 0xf66c278>"
      ]
     },
     "metadata": {},
     "output_type": "display_data"
    }
   ],
   "source": [
    "#let's see the coralation among the variables.\n",
    "# a correlation heatmap is helpful and than we can further drilldown the corelated variables\n",
    "plt.figure(figsize=(16,5))\n",
    "sns.heatmap(music_updated.corr(),cmap=\"coolwarm\",annot=True)\n",
    "plt.show()"
   ]
  },
  {
   "cell_type": "code",
   "execution_count": null,
   "metadata": {
    "collapsed": true
   },
   "outputs": [],
   "source": [
    "# The above graph shows a good number of corelations\n",
    "# danceability has moderate positive corelation with Valence and negative with tempo\n",
    "# energy has high positive corelation with loudness and mild positive with valence\n",
    "# loudness has high positive with energy and moderate negative with speechiness\n",
    "# valence has moderate positive corelation with dancability , energy and loudness.\n",
    "# tempo has mild negative corelation with dancability,acousticness and valance."
   ]
  },
  {
   "cell_type": "code",
   "execution_count": 40,
   "metadata": {
    "collapsed": false
   },
   "outputs": [
    {
     "data": {
      "text/plain": [
       "<matplotlib.axes._subplots.AxesSubplot at 0x10506c18>"
      ]
     },
     "execution_count": 40,
     "metadata": {},
     "output_type": "execute_result"
    },
    {
     "data": {
      "image/png": "[encoded data removed]",
      "text/plain": [
       "<matplotlib.figure.Figure at 0x10506fd0>"
      ]
     },
     "metadata": {},
     "output_type": "display_data"
    }
   ],
   "source": [
    "#let's explore dancability and Valance\n",
    "\n",
    "sns.regplot(x=music_updated.danceability,y= music_updated.valence,data=music_updated)"
   ]
  },
  {
   "cell_type": "code",
   "execution_count": null,
   "metadata": {
    "collapsed": true
   },
   "outputs": [],
   "source": [
    "#there seems to be a relationship bw dancability and valance , not a prefect line but a pattern of increasing valance and  danceability\n",
    "#after a log transformation of both the variables, we see a more connected distribution for high end values of both variables.\n",
    "#maybe people like songs with high dancaebility and valence. but we also know that mean value of valance is 5.1, people also like high danceabilty  and low valance song"
   ]
  },
  {
   "cell_type": "code",
   "execution_count": 43,
   "metadata": {
    "collapsed": false
   },
   "outputs": [
    {
     "data": {
      "text/plain": [
       "<matplotlib.axes._subplots.AxesSubplot at 0x10915208>"
      ]
     },
     "execution_count": 43,
     "metadata": {},
     "output_type": "execute_result"
    },
    {
     "data": {
      "image/png": "[encoded data removed]",
      "text/plain": [
       "<matplotlib.figure.Figure at 0x10b3e2b0>"
      ]
     },
     "metadata": {},
     "output_type": "display_data"
    }
   ],
   "source": [
    "sns.regplot(x=np.log(music_updated.danceability),y= np.log(music_updated.valence),data=music_updated)"
   ]
  },
  {
   "cell_type": "code",
   "execution_count": 51,
   "metadata": {
    "collapsed": false
   },
   "outputs": [
    {
     "data": {
      "text/plain": [
       "<matplotlib.axes._subplots.AxesSubplot at 0xf5e4a20>"
      ]
     },
     "execution_count": 51,
     "metadata": {},
     "output_type": "execute_result"
    },
    {
     "data": {
      "image/png": "[encoded data removed]",
      "text/plain": [
       "<matplotlib.figure.Figure at 0x1100bef0>"
      ]
     },
     "metadata": {},
     "output_type": "display_data"
    }
   ],
   "source": [
    "# Danceability and tempo\n",
    "# a neagtive relation is visible bw the variables\n",
    "sns.regplot(x=(music_updated.danceability),y= music_updated.tempo,data=music_updated)"
   ]
  },
  {
   "cell_type": "code",
   "execution_count": 53,
   "metadata": {
    "collapsed": false
   },
   "outputs": [
    {
     "data": {
      "text/plain": [
       "<matplotlib.axes._subplots.AxesSubplot at 0x11378048>"
      ]
     },
     "execution_count": 53,
     "metadata": {},
     "output_type": "execute_result"
    },
    {
     "data": {
      "image/png": "[encoded data removed]",
      "text/plain": [
       "<matplotlib.figure.Figure at 0x1230c208>"
      ]
     },
     "metadata": {},
     "output_type": "display_data"
    }
   ],
   "source": [
    "sns.regplot(x=np.log(music_updated.danceability),y= np.log(music_updated.tempo),data=music_updated)"
   ]
  },
  {
   "cell_type": "code",
   "execution_count": 54,
   "metadata": {
    "collapsed": false
   },
   "outputs": [
    {
     "data": {
      "text/plain": [
       "<matplotlib.axes._subplots.AxesSubplot at 0x124e8e80>"
      ]
     },
     "execution_count": 54,
     "metadata": {},
     "output_type": "execute_result"
    },
    {
     "data": {
      "image/png": "[encoded data removed]",
      "text/plain": [
       "<matplotlib.figure.Figure at 0x1260a588>"
      ]
     },
     "metadata": {},
     "output_type": "display_data"
    }
   ],
   "source": [
    "# energy and loudness\n",
    "#  a very strong corelation bw two variables\n",
    "sns.regplot(x=(music_updated.energy),y= (music_updated.loudness),data=music_updated)"
   ]
  },
  {
   "cell_type": "code",
   "execution_count": 55,
   "metadata": {
    "collapsed": true
   },
   "outputs": [],
   "source": [
    "musicupdatedVal  =music_updated.values"
   ]
  },
  {
   "cell_type": "code",
   "execution_count": 56,
   "metadata": {
    "collapsed": false
   },
   "outputs": [
    {
     "data": {
      "text/plain": [
       "array([[0.825, 0.652, 1.0, ..., 233713.0, 4.0, 'B'],\n",
       "       [0.6940000000000001, 0.815, 2.0, ..., 228827.0, 4.0, 'C'],\n",
       "       [0.66, 0.7859999999999999, 2.0, ..., 228200.0, 4.0, 'C'],\n",
       "       ..., \n",
       "       [0.731, 0.469, 5.0, ..., 165387.0, 4.0, 'F'],\n",
       "       [0.6579999999999999, 0.588, 6.0, ..., 214802.0, 4.0, 'G'],\n",
       "       [0.258, 0.43700000000000006, 11.0, ..., 239000.0, 4.0, 'L']], dtype=object)"
      ]
     },
     "execution_count": 56,
     "metadata": {},
     "output_type": "execute_result"
    }
   ],
   "source": [
    "musicupdatedVal"
   ]
  },
  {
   "cell_type": "code",
   "execution_count": 81,
   "metadata": {
    "collapsed": false
   },
   "outputs": [
    {
     "name": "stdout",
     "output_type": "stream",
     "text": [
      "danceability          1\n",
      "energy                0\n",
      "key                   0\n",
      "loudness              0\n",
      "mode                  0\n",
      "speechiness           0\n",
      "acousticness          0\n",
      "instrumentalness      0\n",
      "liveness              0\n",
      "valence               0\n",
      "tempo                 0\n",
      "duration_ms           0\n",
      "time_signature        0\n",
      "NewKey                0\n",
      "(1, energy)         100\n",
      "dtype: int64\n"
     ]
    }
   ],
   "source": [
    "print(music_updated.isnull().sum())"
   ]
  },
  {
   "cell_type": "code",
   "execution_count": 80,
   "metadata": {
    "collapsed": false
   },
   "outputs": [],
   "source": [
    "music_updated.iloc[0:1,0:1] = np.nan"
   ]
  },
  {
   "cell_type": "code",
   "execution_count": 64,
   "metadata": {
    "collapsed": false
   },
   "outputs": [
    {
     "data": {
      "text/plain": [
       "0    B\n",
       "1    C\n",
       "2    C\n",
       "Name: NewKey, dtype: object"
      ]
     },
     "execution_count": 64,
     "metadata": {},
     "output_type": "execute_result"
    }
   ],
   "source": [
    "music_updated.NewKey.head(3)"
   ]
  },
  {
   "cell_type": "code",
   "execution_count": null,
   "metadata": {
    "collapsed": true
   },
   "outputs": [],
   "source": []
  }
 ],
 "metadata": {
  "kernelspec": {
   "display_name": "Python 2",
   "language": "python",
   "name": "python2"
  },
  "language_info": {
   "codemirror_mode": {
    "name": "ipython",
    "version": 2
   },
   "file_extension": ".py",
   "mimetype": "text/x-python",
   "name": "python",
   "nbconvert_exporter": "python",
   "pygments_lexer": "ipython2",
   "version": "2.7.11"
  }
 },
 "nbformat": 4,
 "nbformat_minor": 0
}
